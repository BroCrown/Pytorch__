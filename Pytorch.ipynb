{
  "nbformat": 4,
  "nbformat_minor": 0,
  "metadata": {
    "colab": {
      "provenance": [],
      "authorship_tag": "ABX9TyOrd9wZ2xA9Yzfl4OxjnNOX",
      "include_colab_link": true
    },
    "kernelspec": {
      "name": "python3",
      "display_name": "Python 3"
    },
    "language_info": {
      "name": "python"
    }
  },
  "cells": [
    {
      "cell_type": "markdown",
      "metadata": {
        "id": "view-in-github",
        "colab_type": "text"
      },
      "source": [
        "<a href=\"https://colab.research.google.com/github/BroCrown/Pytorch__/blob/main/Pytorch.ipynb\" target=\"_parent\"><img src=\"https://colab.research.google.com/assets/colab-badge.svg\" alt=\"Open In Colab\"/></a>"
      ]
    },
    {
      "cell_type": "code",
      "execution_count": 2,
      "metadata": {
        "id": "Mx4Wi-qRUczT"
      },
      "outputs": [],
      "source": [
        "import torch\n",
        "import torchvision\n",
        "import torch.nn as nn\n",
        "import numpy as np\n",
        "import matplotlib.pyplot as plt"
      ]
    },
    {
      "cell_type": "code",
      "source": [
        "tensor_3 = torch.rand(2,4,5)\n",
        "print(\"\\nThe origional Tensor is is:\\n\", tensor_3)\n",
        "print(\"The Re-arranged is:\\n\", tensor_3.transpose(0,2))\n",
        "print(\"With shape:\\n\", tensor_3.transpose(0,2).shape)\n"
      ],
      "metadata": {
        "colab": {
          "base_uri": "https://localhost:8080/"
        },
        "id": "P2s5NhGDW1IB",
        "outputId": "560f2802-fc57-4d3c-d3ba-7cd2e23f6681"
      },
      "execution_count": 3,
      "outputs": [
        {
          "output_type": "stream",
          "name": "stdout",
          "text": [
            "\n",
            "The origional Tensor is is:\n",
            " tensor([[[0.8434, 0.3410, 0.9063, 0.5447, 0.5281],\n",
            "         [0.5421, 0.2557, 0.2564, 0.0600, 0.3568],\n",
            "         [0.0019, 0.0570, 0.7620, 0.7165, 0.9552],\n",
            "         [0.0586, 0.8234, 0.9957, 0.4160, 0.8299]],\n",
            "\n",
            "        [[0.4688, 0.5407, 0.1769, 0.8123, 0.0865],\n",
            "         [0.6119, 0.1038, 0.3857, 0.9529, 0.3020],\n",
            "         [0.7855, 0.4918, 0.7594, 0.0224, 0.2466],\n",
            "         [0.2801, 0.4676, 0.8123, 0.6935, 0.6838]]])\n",
            "The Re-arranged is:\n",
            " tensor([[[0.8434, 0.4688],\n",
            "         [0.5421, 0.6119],\n",
            "         [0.0019, 0.7855],\n",
            "         [0.0586, 0.2801]],\n",
            "\n",
            "        [[0.3410, 0.5407],\n",
            "         [0.2557, 0.1038],\n",
            "         [0.0570, 0.4918],\n",
            "         [0.8234, 0.4676]],\n",
            "\n",
            "        [[0.9063, 0.1769],\n",
            "         [0.2564, 0.3857],\n",
            "         [0.7620, 0.7594],\n",
            "         [0.9957, 0.8123]],\n",
            "\n",
            "        [[0.5447, 0.8123],\n",
            "         [0.0600, 0.9529],\n",
            "         [0.7165, 0.0224],\n",
            "         [0.4160, 0.6935]],\n",
            "\n",
            "        [[0.5281, 0.0865],\n",
            "         [0.3568, 0.3020],\n",
            "         [0.9552, 0.2466],\n",
            "         [0.8299, 0.6838]]])\n",
            "With shape:\n",
            " torch.Size([5, 4, 2])\n"
          ]
        }
      ]
    }
  ]
}